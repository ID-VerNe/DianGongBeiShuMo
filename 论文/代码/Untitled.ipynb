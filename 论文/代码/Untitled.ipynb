{
 "cells": [
  {
   "cell_type": "code",
   "execution_count": 1,
   "id": "470e592f",
   "metadata": {},
   "outputs": [],
   "source": [
    "import sympy as sp"
   ]
  },
  {
   "cell_type": "code",
   "execution_count": 3,
   "id": "d7b76d5e",
   "metadata": {},
   "outputs": [],
   "source": [
    "p1, p2, p3 = sp.symbols('p_1 p_2 p_3')\n",
    "    # 发电参数\n",
    "c1 = 0.226 * p1 ** 2 + 30.42 * p1 + 786.80\n",
    "c2 = 0.588 * p2 ** 2 + 65.12 * p2 + 451.32\n",
    "c3 = 0.785 * p3 ** 2 + 139.6 * p3 + 1049.50"
   ]
  },
  {
   "cell_type": "code",
   "execution_count": 4,
   "id": "9fb0b8b5",
   "metadata": {},
   "outputs": [
    {
     "data": {
      "text/plain": [
       "'0.226 p_{1}^{2} + 30.42 p_{1} + 786.8'"
      ]
     },
     "execution_count": 4,
     "metadata": {},
     "output_type": "execute_result"
    }
   ],
   "source": [
    "sp.latex(c1)"
   ]
  },
  {
   "cell_type": "code",
   "execution_count": 5,
   "id": "c0045a36",
   "metadata": {},
   "outputs": [
    {
     "data": {
      "text/plain": [
       "'0.588 p_{2}^{2} + 65.12 p_{2} + 451.32'"
      ]
     },
     "execution_count": 5,
     "metadata": {},
     "output_type": "execute_result"
    }
   ],
   "source": [
    "sp.latex(c2)"
   ]
  },
  {
   "cell_type": "code",
   "execution_count": 6,
   "id": "a7f2fc67",
   "metadata": {},
   "outputs": [
    {
     "data": {
      "text/plain": [
       "'0.785 p_{3}^{2} + 139.6 p_{3} + 1049.5'"
      ]
     },
     "execution_count": 6,
     "metadata": {},
     "output_type": "execute_result"
    }
   ],
   "source": [
    "sp.latex(c3)"
   ]
  },
  {
   "cell_type": "code",
   "execution_count": 8,
   "id": "33fc74c1",
   "metadata": {},
   "outputs": [
    {
     "data": {
      "text/plain": [
       "'0.452 p_{1} + 30.42'"
      ]
     },
     "execution_count": 8,
     "metadata": {},
     "output_type": "execute_result"
    }
   ],
   "source": [
    "sp.latex(sp.diff(c1))"
   ]
  },
  {
   "cell_type": "code",
   "execution_count": 10,
   "id": "482de7f7",
   "metadata": {},
   "outputs": [
    {
     "data": {
      "text/plain": [
       "'1.176 p_{2} + 65.12'"
      ]
     },
     "execution_count": 10,
     "metadata": {},
     "output_type": "execute_result"
    }
   ],
   "source": [
    "sp.latex(sp.diff(c2))"
   ]
  },
  {
   "cell_type": "code",
   "execution_count": 11,
   "id": "8366ef36",
   "metadata": {},
   "outputs": [
    {
     "data": {
      "text/plain": [
       "'1.57 p_{3} + 139.6'"
      ]
     },
     "execution_count": 11,
     "metadata": {},
     "output_type": "execute_result"
    }
   ],
   "source": [
    "sp.latex(sp.diff(c3))"
   ]
  },
  {
   "cell_type": "code",
   "execution_count": null,
   "id": "5c35ecbb",
   "metadata": {},
   "outputs": [],
   "source": []
  }
 ],
 "metadata": {
  "kernelspec": {
   "display_name": "Python 3",
   "language": "python",
   "name": "python3"
  },
  "language_info": {
   "codemirror_mode": {
    "name": "ipython",
    "version": 3
   },
   "file_extension": ".py",
   "mimetype": "text/x-python",
   "name": "python",
   "nbconvert_exporter": "python",
   "pygments_lexer": "ipython3",
   "version": "3.8.8"
  }
 },
 "nbformat": 4,
 "nbformat_minor": 5
}
